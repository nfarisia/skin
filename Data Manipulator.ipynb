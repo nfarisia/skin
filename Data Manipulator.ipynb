{
 "cells": [
  {
   "cell_type": "code",
   "execution_count": 1,
   "id": "1e813383",
   "metadata": {},
   "outputs": [],
   "source": [
    "from pathlib import Path\n",
    "import shutil\n",
    "import os\n",
    "import random\n",
    "import pandas as pd\n",
    "import numpy as np\n",
    "import matplotlib.pyplot as plt\n",
    "import seaborn as sns"
   ]
  },
  {
   "cell_type": "code",
   "execution_count": 2,
   "id": "f6e5bd8a",
   "metadata": {},
   "outputs": [
    {
     "ename": "FileExistsError",
     "evalue": "[WinError 183] Cannot create a file when that file already exists: 'Hyperpigmentation Data/Results'",
     "output_type": "error",
     "traceback": [
      "\u001b[1;31m---------------------------------------------------------------------------\u001b[0m",
      "\u001b[1;31mFileExistsError\u001b[0m                           Traceback (most recent call last)",
      "\u001b[1;32m<ipython-input-2-33f7713dd91b>\u001b[0m in \u001b[0;36m<module>\u001b[1;34m\u001b[0m\n\u001b[1;32m----> 1\u001b[1;33m \u001b[0mos\u001b[0m\u001b[1;33m.\u001b[0m\u001b[0mmakedirs\u001b[0m\u001b[1;33m(\u001b[0m\u001b[1;34m\"Hyperpigmentation Data/Results\"\u001b[0m\u001b[1;33m)\u001b[0m\u001b[1;33m\u001b[0m\u001b[1;33m\u001b[0m\u001b[0m\n\u001b[0m\u001b[0;32m      2\u001b[0m \u001b[0mos\u001b[0m\u001b[1;33m.\u001b[0m\u001b[0mmakedirs\u001b[0m\u001b[1;33m(\u001b[0m\u001b[1;34m\"Hyperpigmentation Data/Results/Train\"\u001b[0m\u001b[1;33m)\u001b[0m\u001b[1;33m\u001b[0m\u001b[1;33m\u001b[0m\u001b[0m\n\u001b[0;32m      3\u001b[0m \u001b[0mos\u001b[0m\u001b[1;33m.\u001b[0m\u001b[0mmakedirs\u001b[0m\u001b[1;33m(\u001b[0m\u001b[1;34m\"Hyperpigmentation Data/Results/Test\"\u001b[0m\u001b[1;33m)\u001b[0m\u001b[1;33m\u001b[0m\u001b[1;33m\u001b[0m\u001b[0m\n",
      "\u001b[1;32m~\\Anaconda3\\lib\\os.py\u001b[0m in \u001b[0;36mmakedirs\u001b[1;34m(name, mode, exist_ok)\u001b[0m\n\u001b[0;32m    221\u001b[0m             \u001b[1;32mreturn\u001b[0m\u001b[1;33m\u001b[0m\u001b[1;33m\u001b[0m\u001b[0m\n\u001b[0;32m    222\u001b[0m     \u001b[1;32mtry\u001b[0m\u001b[1;33m:\u001b[0m\u001b[1;33m\u001b[0m\u001b[1;33m\u001b[0m\u001b[0m\n\u001b[1;32m--> 223\u001b[1;33m         \u001b[0mmkdir\u001b[0m\u001b[1;33m(\u001b[0m\u001b[0mname\u001b[0m\u001b[1;33m,\u001b[0m \u001b[0mmode\u001b[0m\u001b[1;33m)\u001b[0m\u001b[1;33m\u001b[0m\u001b[1;33m\u001b[0m\u001b[0m\n\u001b[0m\u001b[0;32m    224\u001b[0m     \u001b[1;32mexcept\u001b[0m \u001b[0mOSError\u001b[0m\u001b[1;33m:\u001b[0m\u001b[1;33m\u001b[0m\u001b[1;33m\u001b[0m\u001b[0m\n\u001b[0;32m    225\u001b[0m         \u001b[1;31m# Cannot rely on checking for EEXIST, since the operating system\u001b[0m\u001b[1;33m\u001b[0m\u001b[1;33m\u001b[0m\u001b[1;33m\u001b[0m\u001b[0m\n",
      "\u001b[1;31mFileExistsError\u001b[0m: [WinError 183] Cannot create a file when that file already exists: 'Hyperpigmentation Data/Results'"
     ]
    }
   ],
   "source": [
    "os.makedirs(\"Hyperpigmentation Data/Results\")\n",
    "os.makedirs(\"Hyperpigmentation Data/Results/Train\")\n",
    "os.makedirs(\"Hyperpigmentation Data/Results/Test\")"
   ]
  },
  {
   "cell_type": "code",
   "execution_count": null,
   "id": "bc35ac6b",
   "metadata": {},
   "outputs": [],
   "source": [
    "classes = [\n",
    "          \"Melasma\",\n",
    "          \"Mixed Melasma\",\n",
    "          \"Ochronosis\",\n",
    "          \"Melasma & Ochronosis\",\n",
    "          \"Melasma with telangiectasis (angiogenic)\",\n",
    "          \"Melasma Ochronosis & telangiectasis\",\n",
    "          \"Melasma Ochronosis with telangiectasis and Hypopigmentation\",\n",
    "          \"Dermal melanosis\",\n",
    "          \"Solar Lentigo\",\n",
    "          \"Senile Lentigo\",\n",
    "          \"Lentigo Simplex\",\n",
    "          \"Lentigo Maligna\",\n",
    "          \"Ephelides (Freckles)\",\n",
    "          \"Horis Nevus (ABNOM)\",\n",
    "          \"Dark Circle of the Eyes\",\n",
    "          \"Nevus of Ota\",\n",
    "          \"Nevus of Ito\",\n",
    "          \"Nevus Spilus\",\n",
    "          \"Beckers nevus\",\n",
    "          \"Mongolian Blue spot\",\n",
    "          \"Café au lait\",\n",
    "          \"Macular amyloidosis\",\n",
    "          \"Acanthosis nigricans\",\n",
    "          \"Pseudo acanthosis nigricans\",\n",
    "          \"Ashy Dermatosis\",\n",
    "          \"Drug induced Hyperpigmentation\",\n",
    "          \"Seborrheic Keratosis\",\n",
    "          \"Nevus Pigmentosus\",\n",
    "          \"Nevus Pigmentosus Compound\",\n",
    "          \"Nevus Pigmentosus Dermal\",\n",
    "          \"Nevus Pigmentosus Junctional\",\n",
    "          \"Real melanosis\",\n",
    "          \"Photo toxic hyperpigmentation\",\n",
    "          \"Notalgia paraesthetica hyperpigmentation\",\n",
    "          \"Peutz jeghers syndrome\",\n",
    "          \"PIH\",\n",
    "          \"PIH post insect bite\"\n",
    "        ]"
   ]
  },
  {
   "cell_type": "code",
   "execution_count": null,
   "id": "da600d22",
   "metadata": {},
   "outputs": [],
   "source": [
    "for kelas in classes:\n",
    "    os.makedirs(\"Hyperpigmentation Data/Results/Train/{}\".format(kelas))"
   ]
  },
  {
   "cell_type": "code",
   "execution_count": null,
   "id": "dfb1283b",
   "metadata": {},
   "outputs": [],
   "source": [
    "for folder in os.listdir(\"Hyperpigmentation Data\"):\n",
    "#     print(folder)\n",
    "    for disease in os.listdir(\"Hyperpigmentation Data/{}\".format(folder)):\n",
    "#         print(disease, len(os.listdir(\"Hyperpigmentation Data/{}/{}\".format(folder, disease))))\n",
    "        for image in os.listdir(\"Hyperpigmentation Data/{}/{}\".format(folder, disease)):\n",
    "#             print(image)\n",
    "            try:\n",
    "                shutil.copy2(\"Hyperpigmentation Data/{}/{}/{}\".format(folder, disease, image), \"Hyperpigmentation Data/Results/Train/{}/\".format(disease))\n",
    "            except:\n",
    "                continue\n",
    "#     print()"
   ]
  },
  {
   "cell_type": "code",
   "execution_count": null,
   "id": "80ffd692",
   "metadata": {},
   "outputs": [],
   "source": [
    "for i,folder in enumerate(os.listdir(\"Hyperpigmentation Data/Results/Train\")):\n",
    "    try:\n",
    "        print(i+1,folder, len(os.listdir(\"Hyperpigmentation Data/Results/Train/{}\".format(folder))))\n",
    "        banyak_data = len(os.listdir(\"Hyperpigmentation Data/Results/Train/{}\".format(folder)))\n",
    "        if banyak_data < 1:\n",
    "            os.rmdir(\"Hyperpigmentation Data/Results/Train/{}\".format(folder))\n",
    "    except:\n",
    "        continue"
   ]
  },
  {
   "cell_type": "code",
   "execution_count": null,
   "id": "4b924f84",
   "metadata": {},
   "outputs": [],
   "source": [
    "for folder in os.listdir(\"Hyperpigmentation Data/Results/Train\"):\n",
    "    try:\n",
    "        print(folder, len(os.listdir(\"Hyperpigmentation Data/Results/Train/{}\".format(folder))))\n",
    "    except:\n",
    "        continue"
   ]
  },
  {
   "cell_type": "code",
   "execution_count": null,
   "id": "4498b88c",
   "metadata": {},
   "outputs": [],
   "source": [
    "test_classes = []\n",
    "for i,folder in enumerate(os.listdir(\"Hyperpigmentation Data/Results/Train\")):\n",
    "    try:\n",
    "        banyak_data = len(os.listdir(\"Hyperpigmentation Data/Results/Train/{}\".format(folder)))\n",
    "        if banyak_data >= 10:\n",
    "            print(i+1,folder, len(os.listdir(\"Hyperpigmentation Data/Results/Train/{}\".format(folder))))\n",
    "            test_classes.append(folder)\n",
    "    except:\n",
    "        continue"
   ]
  },
  {
   "cell_type": "code",
   "execution_count": null,
   "id": "4ff387f6",
   "metadata": {},
   "outputs": [],
   "source": [
    "for i in test_classes:\n",
    "    os.makedirs(\"Hyperpigmentation Data/Results/Test/{}\".format(i))"
   ]
  },
  {
   "cell_type": "code",
   "execution_count": null,
   "id": "53fa2834",
   "metadata": {},
   "outputs": [],
   "source": [
    "train_portion = 0.8\n",
    "test_portion = 0.2\n",
    "\n",
    "for i,folder in enumerate(os.listdir(\"Hyperpigmentation Data/Results/Train\")):\n",
    "    try:\n",
    "        banyak_data = len(os.listdir(\"Hyperpigmentation Data/Results/Train/{}\".format(folder)))\n",
    "        for image in random.sample(os.listdir(\"Hyperpigmentation Data/Results/Train/{}\".format(folder)), int(len(os.listdir(\"Hyperpigmentation Data/Results/Train/{}\".format(folder)))*test_portion)):\n",
    "            shutil.copy2(\"Hyperpigmentation Data/Results/Train/{}/{}\".format(folder, image), \"Hyperpigmentation Data/Results/Test/{}/\".format(folder))\n",
    "    except:\n",
    "        continue"
   ]
  },
  {
   "cell_type": "code",
   "execution_count": null,
   "id": "b1e940b8",
   "metadata": {},
   "outputs": [],
   "source": []
  }
 ],
 "metadata": {
  "kernelspec": {
   "display_name": "Python 3",
   "language": "python",
   "name": "python3"
  },
  "language_info": {
   "codemirror_mode": {
    "name": "ipython",
    "version": 3
   },
   "file_extension": ".py",
   "mimetype": "text/x-python",
   "name": "python",
   "nbconvert_exporter": "python",
   "pygments_lexer": "ipython3",
   "version": "3.8.8"
  }
 },
 "nbformat": 4,
 "nbformat_minor": 5
}
